{
 "cells": [
  {
   "cell_type": "markdown",
   "metadata": {},
   "source": [
    "### Import libraries"
   ]
  },
  {
   "cell_type": "code",
   "execution_count": null,
   "metadata": {},
   "outputs": [],
   "source": [
    "# Import necessary libraries\n",
    "import os\n",
    "\n",
    "# Import necessary libraries for data processing\n",
    "import pandas as pd\n",
    "\n",
    "# Import necessary libraries for model\n",
    "from keras.models import Sequential\n",
    "from keras.layers import LSTM, Dense\n",
    "from keras.metrics import Precision, Recall, F1Score, AUC"
   ]
  },
  {
   "cell_type": "markdown",
   "metadata": {},
   "source": [
    "# Data Preparation"
   ]
  },
  {
   "cell_type": "markdown",
   "metadata": {},
   "source": [
    "### Load and merge data"
   ]
  },
  {
   "cell_type": "code",
   "execution_count": null,
   "metadata": {},
   "outputs": [],
   "source": [
    "# Load the data from a CSV file\n",
    "market_data_1 = pd.read_csv('../../backend/data/TrainingData/Period1/A/market_data_A_0.csv')\n",
    "market_data_2 = pd.read_csv('../../backend/data/TrainingData/Period1/A/market_data_A_1.csv')\n",
    "market_data = pd.concat([market_data_1, market_data_2])\n",
    "\n",
    "# Load the trade data from a CSV file\n",
    "trade_data = pd.read_csv('../../backend/data/TrainingData/Period1/A/trade_data__A.csv')\n",
    "\n",
    "# merge the data on the nearest timestamp\n",
    "merged_data = pd.merge_asof(market_data.sort_values('timestamp'),\n",
    "    trade_data.sort_values('timestamp'),\n",
    "    by='timestamp',\n",
    "    direction='nearest')"
   ]
  },
  {
   "cell_type": "markdown",
   "metadata": {},
   "source": [
    "### Feature Engineering"
   ]
  },
  {
   "cell_type": "code",
   "execution_count": null,
   "metadata": {},
   "outputs": [],
   "source": [
    "# Calculate the spread between the market and trade data\n",
    "merged_data['spread'] = merged_data['askPrice'] - merged_data['bidPrice']\n",
    "\n",
    "# Add a moving average of the spread\n",
    "merged_data['bidPrice_ma'] = merged_data['bidPrice'].rolling(window=5).mean()\n",
    "merged_data['askPrice_ma'] = merged_data['askPrice'].rolling(window=5).mean()\n",
    "merged_data.fillna(method='bfill', inplace=True)"
   ]
  },
  {
   "cell_type": "markdown",
   "metadata": {},
   "source": [
    "# Implementation of Model"
   ]
  },
  {
   "cell_type": "markdown",
   "metadata": {},
   "source": [
    "### Define Model class"
   ]
  },
  {
   "cell_type": "code",
   "execution_count": null,
   "metadata": {},
   "outputs": [],
   "source": [
    "# define the LSTM model\n",
    "model = Sequential()\n",
    "model.add(LSTM(100, input_shape=(timesteps, features)))\n",
    "model.add(Dense(1, activation='sigmoid'))\n",
    "\n"
   ]
  },
  {
   "cell_type": "markdown",
   "metadata": {},
   "source": [
    "### Compile model"
   ]
  },
  {
   "cell_type": "markdown",
   "metadata": {},
   "source": []
  },
  {
   "cell_type": "code",
   "execution_count": null,
   "metadata": {},
   "outputs": [],
   "source": []
  },
  {
   "cell_type": "code",
   "execution_count": null,
   "metadata": {},
   "outputs": [],
   "source": []
  },
  {
   "cell_type": "code",
   "execution_count": null,
   "metadata": {},
   "outputs": [],
   "source": [
    "# compile the model for training\n",
    "model.compile(loss='binary_crossentropy', optimizer='adam', metrics=[\n",
    "    'accuracy',\n",
    "    Precision(),\n",
    "    Recall(),\n",
    "    F1Score(),\n",
    "    AUC()\n",
    "])"
   ]
  },
  {
   "cell_type": "markdown",
   "metadata": {},
   "source": [
    "### Train model"
   ]
  },
  {
   "cell_type": "code",
   "execution_count": null,
   "metadata": {},
   "outputs": [],
   "source": [
    "\n"
   ]
  },
  {
   "cell_type": "markdown",
   "metadata": {},
   "source": [
    "### Test model"
   ]
  },
  {
   "cell_type": "code",
   "execution_count": null,
   "metadata": {},
   "outputs": [],
   "source": []
  }
 ],
 "metadata": {
  "kernelspec": {
   "display_name": ".venv",
   "language": "python",
   "name": "python3"
  },
  "language_info": {
   "codemirror_mode": {
    "name": "ipython",
    "version": 3
   },
   "file_extension": ".py",
   "mimetype": "text/x-python",
   "name": "python",
   "nbconvert_exporter": "python",
   "pygments_lexer": "ipython3",
   "version": "3.13.1"
  }
 },
 "nbformat": 4,
 "nbformat_minor": 2
}

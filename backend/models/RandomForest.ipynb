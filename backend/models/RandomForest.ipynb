{
 "cells": [
  {
   "cell_type": "markdown",
   "metadata": {},
   "source": [
    "### Import libraries"
   ]
  },
  {
   "cell_type": "code",
   "execution_count": null,
   "metadata": {},
   "outputs": [],
   "source": [
    "import os\n",
    "import pandas as pd"
   ]
  },
  {
   "cell_type": "markdown",
   "metadata": {},
   "source": [
    "# Data Preparation"
   ]
  },
  {
   "cell_type": "code",
   "execution_count": null,
   "metadata": {},
   "outputs": [
    {
     "name": "stdout",
     "output_type": "stream",
     "text": [
      "   bidVolume  bidPrice  askVolume  askPrice           timestamp\n",
      "0         72    117.41         23    117.42  08:10:00.001749856\n",
      "1         72    117.41         18    117.42  08:10:00.001749856\n",
      "2         72    117.41         15    117.42  08:10:00.002174822\n",
      "3         72    117.41          8    117.42  08:10:00.002174822\n",
      "4         72    117.41          7    117.42  08:10:00.002321191\n"
     ]
    }
   ],
   "source": [
    "# Load the data from a CSV file\n",
    "data = pd.read_csv('../../backend/data/TrainingData/Period1/A/market_data_A_0.csv')\n",
    "\n",
    "# Print the first few rows of the dataset\n",
    "print(data.head())"
   ]
  },
  {
   "cell_type": "code",
   "execution_count": 8,
   "metadata": {},
   "outputs": [
    {
     "name": "stdout",
     "output_type": "stream",
     "text": [
      "    price  volume           timestamp\n",
      "0  117.41       3  08:10:00.004135304\n",
      "1  117.41       1  08:10:00.138424619\n",
      "2  117.42       1  08:10:00.243241245\n",
      "3  117.42       1  08:10:00.243255344\n",
      "4  117.42       5  08:10:00.243333885\n"
     ]
    }
   ],
   "source": [
    "# Load the trade data from a CSV file\n",
    "trade_data = pd.read_csv('../../backend/data/TrainingData/Period1/A/trade_data__A.csv')\n",
    "\n",
    "# Print the first few rows of the trade data\n",
    "print(trade_data.head())"
   ]
  },
  {
   "cell_type": "markdown",
   "metadata": {},
   "source": [
    "# Implementation of Model"
   ]
  },
  {
   "cell_type": "code",
   "execution_count": null,
   "metadata": {},
   "outputs": [],
   "source": []
  },
  {
   "cell_type": "markdown",
   "metadata": {},
   "source": [
    "### Load data"
   ]
  },
  {
   "cell_type": "code",
   "execution_count": null,
   "metadata": {},
   "outputs": [],
   "source": []
  },
  {
   "cell_type": "markdown",
   "metadata": {},
   "source": [
    "### Define Model class"
   ]
  },
  {
   "cell_type": "code",
   "execution_count": null,
   "metadata": {},
   "outputs": [],
   "source": []
  },
  {
   "cell_type": "markdown",
   "metadata": {},
   "source": [
    "### Train model"
   ]
  },
  {
   "cell_type": "code",
   "execution_count": null,
   "metadata": {},
   "outputs": [],
   "source": []
  },
  {
   "cell_type": "markdown",
   "metadata": {},
   "source": [
    "### Test model"
   ]
  },
  {
   "cell_type": "code",
   "execution_count": null,
   "metadata": {},
   "outputs": [],
   "source": []
  }
 ],
 "metadata": {
  "kernelspec": {
   "display_name": ".venv",
   "language": "python",
   "name": "python3"
  },
  "language_info": {
   "codemirror_mode": {
    "name": "ipython",
    "version": 3
   },
   "file_extension": ".py",
   "mimetype": "text/x-python",
   "name": "python",
   "nbconvert_exporter": "python",
   "pygments_lexer": "ipython3",
   "version": "3.13.1"
  }
 },
 "nbformat": 4,
 "nbformat_minor": 2
}

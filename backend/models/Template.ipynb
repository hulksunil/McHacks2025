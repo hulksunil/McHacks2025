{
 "cells": [
  {
   "cell_type": "markdown",
   "metadata": {},
   "source": [
    "# Implementation of decision tree in Numpy"
   ]
  },
  {
   "cell_type": "markdown",
   "metadata": {},
   "source": [
    "### Import numpy"
   ]
  },
  {
   "cell_type": "code",
   "execution_count": null,
   "metadata": {},
   "outputs": [],
   "source": [
    "import numpy as np"
   ]
  },
  {
   "cell_type": "markdown",
   "metadata": {},
   "source": [
    "### Load data"
   ]
  },
  {
   "cell_type": "code",
   "execution_count": null,
   "metadata": {},
   "outputs": [],
   "source": [
    "# loading the training\n",
    "train_features = np.load('data/features/train_features_pca.npy')\n",
    "train_labels = np.load('data/labels/train_labels.npy')\n",
    "\n",
    "# loading the test\n",
    "test_features = np.load('data/features/test_features_pca.npy')\n",
    "test_labels = np.load('data//labels/test_labels.npy')"
   ]
  },
  {
   "cell_type": "markdown",
   "metadata": {},
   "source": [
    "### Define Descision Tree class"
   ]
  },
  {
   "cell_type": "code",
   "execution_count": null,
   "metadata": {},
   "outputs": [],
   "source": [
    "class DecisionTreeClassifier:\n",
    "    def __init__(self, max_depth=50): # 50 by default as suggested by the assignment\n",
    "        self.max_depth = max_depth\n",
    "        self.tree = None\n",
    "    \n",
    "    def gini(self, y):\n",
    "        # calculate gini impurity\n",
    "        classes, counts = np.unique(y, return_counts=True)\n",
    "        probability = counts / len(y)\n",
    "        impurity = 1 - np.sum(probability**2)\n",
    "        return impurity\n",
    "    \n",
    "    def split(self, X, y, feature, threshold):\n",
    "        # split data based on feature and threshold\n",
    "        left = y[X[:,feature] < threshold]\n",
    "        right = y[X[:,feature] >= threshold]\n",
    "        return left, right\n",
    "    \n",
    "    def best_split(self, X, y):\n",
    "        # find the best split for the current node\n",
    "        best_gini = float('inf')\n",
    "        best_feature = None\n",
    "        best_threshold = None\n",
    "\n",
    "        # loop over all features\n",
    "        for feature in range(X.shape[1]):\n",
    "            thresholds = np.unique(X[:, feature])\n",
    "            # loop over all thresholds\n",
    "            for threshold in thresholds:\n",
    "                left, right = self.split(X, y, feature, threshold)\n",
    "                # skip if either side is empty\n",
    "                if len(left) == 0 or len(right) == 0:\n",
    "                    continue\n",
    "\n",
    "                # calculate the gini impurity\n",
    "                gini = (len(left) / len(y)) * self.gini(left) + (len(right) / len(y)) * self.gini(right)\n",
    "                if gini < best_gini:\n",
    "                    best_gini = gini\n",
    "                    best_feature = feature\n",
    "                    best_threshold = threshold\n",
    "        return best_feature, best_threshold\n",
    "    \n",
    "    def build_tree(self, X, y, depth=0):\n",
    "        # Stopping criteria\n",
    "        if depth >= self.max_depth or len(np.unique(y)) == 1:\n",
    "            return np.argmax(np.bincount(y))\n",
    "        \n",
    "        feature, threshold = self.best_split(X, y)\n",
    "        if feature is None:\n",
    "            return np.argmax(np.bincount(y))\n",
    "        \n",
    "        # build left and right branches\n",
    "        left = X[:, feature] <= threshold\n",
    "        right = X[:, feature] > threshold\n",
    "\n",
    "        # check if either split is empty\n",
    "        if np.sum(left) == 0 or np.sum(right) == 0:\n",
    "            return np.argmax(np.bincount(y))\n",
    "\n",
    "        return {\n",
    "            'feature': feature,\n",
    "            'threshold': threshold,\n",
    "            'left': self.build_tree(X[left], y[left], depth + 1),\n",
    "            'right': self.build_tree(X[right], y[right], depth + 1)\n",
    "        }\n",
    "    \n",
    "    def fit(self, X, y):\n",
    "        self.tree = self.build_tree(X, y)\n",
    "    \n",
    "    def predict(self, X, tree):\n",
    "        if not isinstance(tree, dict):\n",
    "            return tree\n",
    "        \n",
    "        feature = tree['feature']\n",
    "        threshold = tree['threshold']\n",
    "        \n",
    "        if X[feature] <= threshold:\n",
    "            return self.predict(X, tree['left'])\n",
    "        else:\n",
    "            return self.predict(X, tree['right'])\n",
    "        \n",
    "    def predict_all(self, X):\n",
    "        predictions = []\n",
    "        for x in X:\n",
    "            predictions.append(self.predict(x, self.tree))\n",
    "        return predictions\n"
   ]
  },
  {
   "cell_type": "markdown",
   "metadata": {},
   "source": [
    "### Train Decision Tree model"
   ]
  },
  {
   "cell_type": "code",
   "execution_count": null,
   "metadata": {},
   "outputs": [],
   "source": [
    "decision_tree = DecisionTreeClassifier(max_depth=50)\n",
    "decision_tree.fit(train_features, train_labels)\n",
    "np.save('data/models/dt/dt_numpy.npy', decision_tree)"
   ]
  },
  {
   "cell_type": "markdown",
   "metadata": {},
   "source": [
    "### Test Decision Tree model"
   ]
  },
  {
   "cell_type": "code",
   "execution_count": null,
   "metadata": {},
   "outputs": [],
   "source": [
    "test_predictions = decision_tree.predict_all(test_features)\n",
    "np.save('data/predictions/dt/dt_numpy.npy', test_predictions)"
   ]
  },
  {
   "cell_type": "markdown",
   "metadata": {},
   "source": [
    "### Train Decision Tree model with varying `max_depth[10, 25, 50, 100]`"
   ]
  },
  {
   "cell_type": "code",
   "execution_count": null,
   "metadata": {},
   "outputs": [],
   "source": [
    "depths = [10, 25, 50, 100]\n",
    "models = []\n",
    "results = []\n",
    "\n",
    "for depth in depths:\n",
    "    # train and test 4 models\n",
    "    decision_tree = DecisionTreeClassifier(max_depth=depth)\n",
    "    decision_tree.fit(train_features, train_labels)\n",
    "    models.append(decision_tree)\n",
    "    \n",
    "    test_predictions = decision_tree.predict_all(test_features)\n",
    "    results.append(test_predictions)\n",
    "\n",
    "np.save('data/models/dt/dt_numpy_experiment.npy', models)\n",
    "np.save('data/predictions/dt/dt_numpy_experiment.npy', results)"
   ]
  }
 ],
 "metadata": {
  "kernelspec": {
   "display_name": ".venv",
   "language": "python",
   "name": "python3"
  },
  "language_info": {
   "codemirror_mode": {
    "name": "ipython",
    "version": 3
   },
   "file_extension": ".py",
   "mimetype": "text/x-python",
   "name": "python",
   "nbconvert_exporter": "python",
   "pygments_lexer": "ipython3",
   "version": "3.9.6"
  }
 },
 "nbformat": 4,
 "nbformat_minor": 2
}
